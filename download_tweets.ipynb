{
  "cells": [
    {
      "cell_type": "code",
      "execution_count": null,
      "metadata": {
        "colab": {
          "base_uri": "https://localhost:8080/"
        },
        "id": "Ag1FyMxyBcem",
        "outputId": "169a4e42-c485-40c3-b8a9-cb5346a70610"
      },
      "outputs": [
        {
          "name": "stdout",
          "output_type": "stream",
          "text": [
            "Looking in indexes: https://pypi.org/simple, https://us-python.pkg.dev/colab-wheels/public/simple/\n",
            "Collecting twarc\n",
            "  Downloading twarc-2.10.4-py3-none-any.whl (59 kB)\n",
            "\u001b[K     |████████████████████████████████| 59 kB 7.2 MB/s \n",
            "\u001b[?25hCollecting click-config-file>=0.6\n",
            "  Downloading click_config_file-0.6.0-py2.py3-none-any.whl (6.0 kB)\n",
            "Collecting humanize>=3.9\n",
            "  Downloading humanize-4.2.1-py3-none-any.whl (102 kB)\n",
            "\u001b[K     |████████████████████████████████| 102 kB 57.8 MB/s \n",
            "\u001b[?25hRequirement already satisfied: click<9,>=7 in /usr/local/lib/python3.7/dist-packages (from twarc) (7.1.2)\n",
            "Collecting click-plugins>=1\n",
            "  Downloading click_plugins-1.1.1-py2.py3-none-any.whl (7.5 kB)\n",
            "Requirement already satisfied: requests-oauthlib>=1.3 in /usr/local/lib/python3.7/dist-packages (from twarc) (1.3.1)\n",
            "Requirement already satisfied: tqdm>=4.62 in /usr/local/lib/python3.7/dist-packages (from twarc) (4.64.0)\n",
            "Requirement already satisfied: python-dateutil>=2.8 in /usr/local/lib/python3.7/dist-packages (from twarc) (2.8.2)\n",
            "Collecting configobj>=5.0.6\n",
            "  Downloading configobj-5.0.6.tar.gz (33 kB)\n",
            "Requirement already satisfied: six in /usr/local/lib/python3.7/dist-packages (from configobj>=5.0.6->click-config-file>=0.6->twarc) (1.15.0)\n",
            "Requirement already satisfied: importlib-metadata in /usr/local/lib/python3.7/dist-packages (from humanize>=3.9->twarc) (4.11.4)\n",
            "Requirement already satisfied: requests>=2.0.0 in /usr/local/lib/python3.7/dist-packages (from requests-oauthlib>=1.3->twarc) (2.23.0)\n",
            "Requirement already satisfied: oauthlib>=3.0.0 in /usr/local/lib/python3.7/dist-packages (from requests-oauthlib>=1.3->twarc) (3.2.0)\n",
            "Requirement already satisfied: urllib3!=1.25.0,!=1.25.1,<1.26,>=1.21.1 in /usr/local/lib/python3.7/dist-packages (from requests>=2.0.0->requests-oauthlib>=1.3->twarc) (1.24.3)\n",
            "Requirement already satisfied: certifi>=2017.4.17 in /usr/local/lib/python3.7/dist-packages (from requests>=2.0.0->requests-oauthlib>=1.3->twarc) (2022.6.15)\n",
            "Requirement already satisfied: idna<3,>=2.5 in /usr/local/lib/python3.7/dist-packages (from requests>=2.0.0->requests-oauthlib>=1.3->twarc) (2.10)\n",
            "Requirement already satisfied: chardet<4,>=3.0.2 in /usr/local/lib/python3.7/dist-packages (from requests>=2.0.0->requests-oauthlib>=1.3->twarc) (3.0.4)\n",
            "Requirement already satisfied: typing-extensions>=3.6.4 in /usr/local/lib/python3.7/dist-packages (from importlib-metadata->humanize>=3.9->twarc) (4.1.1)\n",
            "Requirement already satisfied: zipp>=0.5 in /usr/local/lib/python3.7/dist-packages (from importlib-metadata->humanize>=3.9->twarc) (3.8.0)\n",
            "Building wheels for collected packages: configobj\n",
            "  Building wheel for configobj (setup.py) ... \u001b[?25l\u001b[?25hdone\n",
            "  Created wheel for configobj: filename=configobj-5.0.6-py3-none-any.whl size=34547 sha256=f759b8fbd20bfa744250b8104bff93b37eff36b1d2c0cb99d238dc06d70e2fcd\n",
            "  Stored in directory: /root/.cache/pip/wheels/0d/c4/19/13d74440f2a571841db6b6e0a273694327498884dafb9cf978\n",
            "Successfully built configobj\n",
            "Installing collected packages: configobj, humanize, click-plugins, click-config-file, twarc\n",
            "  Attempting uninstall: humanize\n",
            "    Found existing installation: humanize 0.5.1\n",
            "    Uninstalling humanize-0.5.1:\n",
            "      Successfully uninstalled humanize-0.5.1\n",
            "Successfully installed click-config-file-0.6.0 click-plugins-1.1.1 configobj-5.0.6 humanize-4.2.1 twarc-2.10.4\n",
            "Mounted at /content/drive\n"
          ]
        }
      ],
      "source": [
        "# Install twarc and mount drive\n",
        "!pip install --upgrade twarc\n",
        "\n",
        "from google.colab import drive\n",
        "drive.mount('/content/drive')"
      ]
    },
    {
      "cell_type": "markdown",
      "metadata": {
        "id": "TkHAA9GSQ5UY"
      },
      "source": [
        "# Tokens de acceso para la API\n",
        "\n",
        "Bearer token: `AAAAAAAAAAAAAAAAAAAAAJ%2F6cgEAAAAAe5d19uzZQsgipsFTsvaBG6sdWY4%3DXUSLwzqHxciKiiQZMXMDkbqqrFTYfLhpEaKAO6rwPIqQJJSLzC`\n",
        "\n",
        "API Key:\n",
        "`1xvfKNSJfHDmPj3dkXsv0MfYD`\n",
        "\n",
        "API Secret:\n",
        "`RquuZ10ctDun4145BEsBkKCoV3Uj207p7yoMnsbPt50GxrRdgk`"
      ]
    },
    {
      "cell_type": "code",
      "execution_count": 1,
      "metadata": {
        "colab": {
          "base_uri": "https://localhost:8080/"
        },
        "id": "WmvIvd-oqlS8",
        "outputId": "385b3f67-d818-4e46-a0dd-204eab895683"
      },
      "outputs": [],
      "source": [
        "BEARER_TOKEN = 'AAAAAAAAAAAAAAAAAAAAAJ%2F6cgEAAAAAe5d19uzZQsgipsFTsvaBG6sdWY4%3DXUSLwzqHxciKiiQZMXMDkbqqrFTYfLhpEaKAO6rwPIqQJJSLzC'\n"
      ]
    },
    {
      "cell_type": "code",
      "execution_count": null,
      "metadata": {
        "id": "vGtOklR6PYoT"
      },
      "outputs": [],
      "source": [
        "import os\n",
        "\n",
        "os.environ['CONSUMER_KEY'] = \"1xvfKNSJfHDmPj3dkXsv0MfYD\"\n",
        "os.environ['CONSUMER_SECRET'] = \"RquuZ10ctDun4145BEsBkKCoV3Uj207p7yoMnsbPt50GxrRdgk\""
      ]
    },
    {
      "cell_type": "code",
      "execution_count": null,
      "metadata": {
        "id": "yGQm1SeAJSs1"
      },
      "outputs": [],
      "source": [
        "import json\n",
        "\n",
        "# número de tweets de una query\n",
        "def n_tweets(tweets_batches_path):\n",
        "  file_batches = open(tweets_batches_path, 'r') \n",
        "  lines = file_batches.read().split('\\n')\n",
        "  aux = 0\n",
        "  for line in lines:\n",
        "    if len(line) > 0:\n",
        "      json_batch = json.loads(line)\n",
        "      aux += json_batch['meta']['result_count']\n",
        "  file_batches.close()\n",
        "  return aux"
      ]
    },
    {
      "cell_type": "markdown",
      "metadata": {
        "id": "fVrx7IcgUgJD"
      },
      "source": [
        "# API Test"
      ]
    },
    {
      "cell_type": "code",
      "execution_count": null,
      "metadata": {
        "colab": {
          "base_uri": "https://localhost:8080/"
        },
        "id": "qD4BlaXgTj_5",
        "outputId": "79ae00c5-fa06-44e7-b425-887f136064f1"
      },
      "outputs": [
        {
          "name": "stdout",
          "output_type": "stream",
          "text": [
            "Set --limit of 100 reached:   7% 45270918/604770000 [00:02<00:26, 21055789.36it/s]\n"
          ]
        }
      ],
      "source": [
        "# Test the API\n",
        "!twarc2 search --limit 100 \"aguada\" /content/drive/MyDrive/datasets/twitter_uy/test.json "
      ]
    },
    {
      "cell_type": "markdown",
      "metadata": {
        "id": "-0ppz3OgUjGi"
      },
      "source": [
        "# Test de tweets de Uruguay"
      ]
    },
    {
      "cell_type": "code",
      "execution_count": null,
      "metadata": {
        "colab": {
          "base_uri": "https://localhost:8080/"
        },
        "id": "IN9S_HuEVSM9",
        "outputId": "69363d5a-3a5d-47de-a98b-cd6d75566803"
      },
      "outputs": [
        {
          "name": "stdout",
          "output_type": "stream",
          "text": [
            "Set --limit of 10 reached:   0% 630311/604770000 [00:01<21:02, 478703.46it/s]\n"
          ]
        }
      ],
      "source": [
        "!twarc2 search --limit 10 'place:Uruguay' /content/drive/MyDrive/datasets/twitter_uy/test_uruguay.json "
      ]
    },
    {
      "cell_type": "markdown",
      "metadata": {
        "id": "rx0ZB-RTkinT"
      },
      "source": [
        "# Tweets de mayo 2022 \n",
        "posteados con geolocalización en Uruguay"
      ]
    },
    {
      "cell_type": "code",
      "execution_count": null,
      "metadata": {
        "colab": {
          "base_uri": "https://localhost:8080/"
        },
        "id": "2mlIWBYvkh8w",
        "outputId": "78971a65-2482-4c13-e1ea-36ed86c9a693"
      },
      "outputs": [
        {
          "name": "stdout",
          "output_type": "stream",
          "text": [
            "100% 2678400000/2678400000 [2:20:42<00:00, 317268.74it/s]\n",
            "Returned 279582 tweets\n"
          ]
        }
      ],
      "source": [
        "!twarc2 search --archive --start-time 2022-05-01T03:00:00 --end-time 2022-06-01T03:00:00 'place:Uruguay' /content/drive/MyDrive/datasets/twitter_uy/may2022_uy_test.json\n",
        "\n",
        "print('Returned {} tweets'.format(n_tweets('/content/drive/MyDrive/datasets/twitter_uy/may2022_uy_test.json')))"
      ]
    },
    {
      "cell_type": "markdown",
      "metadata": {
        "id": "aCuSdajWMLpt"
      },
      "source": [
        "# Estimación del total de tweets de mayo\n",
        "posteados por uruguayos\n"
      ]
    },
    {
      "cell_type": "code",
      "execution_count": null,
      "metadata": {
        "colab": {
          "base_uri": "https://localhost:8080/"
        },
        "id": "1tvbk53zMx6W",
        "outputId": "abdc4a6d-b569-483f-fe5d-8f335782bdd9"
      },
      "outputs": [
        {
          "name": "stdout",
          "output_type": "stream",
          "text": [
            "100% 2678400000/2678400000 [05:18<00:00, 8416785.03it/s] \n",
            "Returned 16966 tweets\n"
          ]
        }
      ],
      "source": [
        "!twarc2 search --archive --start-time 2022-05-01T03:00:00 --end-time 2022-06-01T03:00:00 '#lamascarauy' /content/drive/MyDrive/datasets/twitter_uy/may2022_lamascarauy.json\n",
        "\n",
        "print('Returned {} tweets'.format(n_tweets('/content/drive/MyDrive/datasets/twitter_uy/may2022_lamascarauy.json')))"
      ]
    },
    {
      "cell_type": "code",
      "execution_count": null,
      "metadata": {
        "colab": {
          "base_uri": "https://localhost:8080/"
        },
        "id": "Yk-GIDHCNFN7",
        "outputId": "35db2121-393c-46ab-93d6-3419f7975fbf"
      },
      "outputs": [
        {
          "name": "stdout",
          "output_type": "stream",
          "text": [
            "100% 2678400000/2678400000 [10:51<00:00, 4110198.66it/s] \n",
            "Returned 25866 tweets\n"
          ]
        }
      ],
      "source": [
        "!twarc2 search --archive --start-time 2022-05-01T03:00:00 --end-time 2022-06-01T03:00:00 '#marchadelsilencio2022' /content/drive/MyDrive/datasets/twitter_uy/may2022_marchadelsilencio2022.json\n",
        "\n",
        "print('Returned {} tweets'.format(n_tweets('/content/drive/MyDrive/datasets/twitter_uy/may2022_marchadelsilencio2022.json')))"
      ]
    },
    {
      "cell_type": "code",
      "execution_count": null,
      "metadata": {
        "colab": {
          "base_uri": "https://localhost:8080/"
        },
        "id": "_cQQsB4_V7-E",
        "outputId": "5633f302-654b-4378-82a2-bbf656232d80"
      },
      "outputs": [
        {
          "name": "stdout",
          "output_type": "stream",
          "text": [
            "100% 2678400000/2678400000 [08:17<00:00, 5388638.96it/s] \n",
            "Returned 9044 tweets\n"
          ]
        }
      ],
      "source": [
        "!twarc2 search --archive --start-time 2022-05-01T03:00:00 --end-time 2022-06-01T03:00:00 '#renunciaheber' /content/drive/MyDrive/datasets/twitter_uy/may2022_renunciaheber.json\n",
        "\n",
        "print('Returned {} tweets'.format(n_tweets('/content/drive/MyDrive/datasets/twitter_uy/may2022_renunciaheber.json')))"
      ]
    }
  ],
  "metadata": {
    "colab": {
      "collapsed_sections": [],
      "name": "download_tweets.ipynb",
      "provenance": []
    },
    "interpreter": {
      "hash": "b0fa6594d8f4cbf19f97940f81e996739fb7646882a419484c72d19e05852a7e"
    },
    "kernelspec": {
      "display_name": "Python 3.9.12 64-bit",
      "language": "python",
      "name": "python3"
    },
    "language_info": {
      "codemirror_mode": {
        "name": "ipython",
        "version": 3
      },
      "file_extension": ".py",
      "mimetype": "text/x-python",
      "name": "python",
      "nbconvert_exporter": "python",
      "pygments_lexer": "ipython3",
      "version": "3.9.12"
    }
  },
  "nbformat": 4,
  "nbformat_minor": 0
}
